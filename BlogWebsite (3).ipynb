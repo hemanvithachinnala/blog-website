{
 "cells": [
  {
   "cell_type": "markdown",
   "id": "9e2fd9cc",
   "metadata": {},
   "source": [
    "# Blog Website with Flask\n",
    "This Jupyter Notebook contains a complete implementation of a simple blog website using Flask with user authentication and content management."
   ]
  },
  {
   "cell_type": "code",
   "execution_count": 25,
   "id": "4cb5c7bd",
   "metadata": {},
   "outputs": [
    {
     "name": "stdout",
     "output_type": "stream",
     "text": [
      "Requirement already satisfied: flask in c:\\users\\9059s\\anaconda3\\lib\\site-packages (3.0.3)\n",
      "Requirement already satisfied: flask-login in c:\\users\\9059s\\anaconda3\\lib\\site-packages (0.6.3)\n",
      "Requirement already satisfied: flask_sqlalchemy in c:\\users\\9059s\\anaconda3\\lib\\site-packages (3.1.1)\n",
      "Requirement already satisfied: Werkzeug>=3.0.0 in c:\\users\\9059s\\anaconda3\\lib\\site-packages (from flask) (3.0.3)\n",
      "Requirement already satisfied: Jinja2>=3.1.2 in c:\\users\\9059s\\anaconda3\\lib\\site-packages (from flask) (3.1.4)\n",
      "Requirement already satisfied: itsdangerous>=2.1.2 in c:\\users\\9059s\\anaconda3\\lib\\site-packages (from flask) (2.2.0)\n",
      "Requirement already satisfied: click>=8.1.3 in c:\\users\\9059s\\anaconda3\\lib\\site-packages (from flask) (8.1.7)\n",
      "Requirement already satisfied: blinker>=1.6.2 in c:\\users\\9059s\\anaconda3\\lib\\site-packages (from flask) (1.6.2)\n",
      "Requirement already satisfied: sqlalchemy>=2.0.16 in c:\\users\\9059s\\anaconda3\\lib\\site-packages (from flask_sqlalchemy) (2.0.34)\n",
      "Requirement already satisfied: colorama in c:\\users\\9059s\\anaconda3\\lib\\site-packages (from click>=8.1.3->flask) (0.4.6)\n",
      "Requirement already satisfied: MarkupSafe>=2.0 in c:\\users\\9059s\\anaconda3\\lib\\site-packages (from Jinja2>=3.1.2->flask) (2.1.3)\n",
      "Requirement already satisfied: typing-extensions>=4.6.0 in c:\\users\\9059s\\anaconda3\\lib\\site-packages (from sqlalchemy>=2.0.16->flask_sqlalchemy) (4.11.0)\n",
      "Requirement already satisfied: greenlet!=0.4.17 in c:\\users\\9059s\\anaconda3\\lib\\site-packages (from sqlalchemy>=2.0.16->flask_sqlalchemy) (3.0.1)\n"
     ]
    }
   ],
   "source": [
    "\n",
    "# Install necessary packages (only once)\n",
    "!pip install flask flask-login flask_sqlalchemy\n"
   ]
  },
  {
   "cell_type": "code",
   "execution_count": 29,
   "id": "a56aa4ff",
   "metadata": {},
   "outputs": [],
   "source": [
    "\n",
    "from flask import Flask, render_template_string, redirect, url_for, request, flash\n",
    "from flask_sqlalchemy import SQLAlchemy\n",
    "from flask_login import LoginManager, UserMixin, login_user, login_required, logout_user, current_user\n",
    "from werkzeug.security import generate_password_hash, check_password_hash\n",
    "import os\n",
    "from threading import Thread\n"
   ]
  },
  {
   "cell_type": "code",
   "execution_count": 31,
   "id": "f945f464",
   "metadata": {},
   "outputs": [],
   "source": [
    "\n",
    "app = Flask(__name__)\n",
    "app.config['SECRET_KEY'] = 'mysecretkey'\n",
    "app.config['SQLALCHEMY_DATABASE_URI'] = 'sqlite:///blog.db'\n",
    "app.config['SQLALCHEMY_TRACK_MODIFICATIONS'] = False\n",
    "\n",
    "db = SQLAlchemy(app)\n",
    "login_manager = LoginManager()\n",
    "login_manager.init_app(app)\n",
    "login_manager.login_view = 'login'\n"
   ]
  },
  {
   "cell_type": "code",
   "execution_count": 33,
   "id": "ab90330e",
   "metadata": {},
   "outputs": [],
   "source": [
    "\n",
    "class User(UserMixin, db.Model):\n",
    "    id = db.Column(db.Integer, primary_key=True)\n",
    "    username = db.Column(db.String(150), unique=True, nullable=False)\n",
    "    password = db.Column(db.String(150), nullable=False)\n",
    "\n",
    "class Post(db.Model):\n",
    "    id = db.Column(db.Integer, primary_key=True)\n",
    "    title = db.Column(db.String(100))\n",
    "    content = db.Column(db.Text)\n",
    "    author_id = db.Column(db.Integer, db.ForeignKey('user.id'))\n"
   ]
  },
  {
   "cell_type": "code",
   "execution_count": 35,
   "id": "54417811",
   "metadata": {},
   "outputs": [],
   "source": [
    "\n",
    "@login_manager.user_loader\n",
    "def load_user(user_id):\n",
    "    return User.query.get(int(user_id))\n"
   ]
  },
  {
   "cell_type": "code",
   "execution_count": 37,
   "id": "11620f33",
   "metadata": {},
   "outputs": [],
   "source": [
    "\n",
    "if 'index' not in app.view_functions:\n",
    "    @app.route('/')\n",
    "    def index():\n",
    "        posts = Post.query.all()\n",
    "        return render_template_string(\"\"\"\n",
    "        <h1>Welcome to the Blog</h1>\n",
    "        {% if current_user.is_authenticated %}\n",
    "        <p>Hello, {{ current_user.username }}! <a href='/logout'>Logout</a></p>\n",
    "        <p><a href='/dashboard'>Dashboard</a></p>\n",
    "        {% else %}\n",
    "        <a href='/login'>Login</a> | <a href='/register'>Register</a>\n",
    "        {% endif %}\n",
    "        <hr>\n",
    "        {% for post in posts %}\n",
    "        <h2>{{ post.title }}</h2><p>{{ post.content }}</p><hr>\n",
    "        {% endfor %}\n",
    "        \"\"\", posts=posts)\n"
   ]
  },
  {
   "cell_type": "code",
   "execution_count": 39,
   "id": "324545fc",
   "metadata": {},
   "outputs": [],
   "source": [
    "\n",
    "if 'register' not in app.view_functions:\n",
    "    @app.route('/register', methods=['GET', 'POST'])\n",
    "    def register():\n",
    "        if request.method == 'POST':\n",
    "            username = request.form['username']\n",
    "            password = request.form['password']\n",
    "            hashed_pw = generate_password_hash(password)\n",
    "            new_user = User(username=username, password=hashed_pw)\n",
    "            db.session.add(new_user)\n",
    "            db.session.commit()\n",
    "            return redirect(url_for('login'))\n",
    "        return render_template_string(\"\"\"\n",
    "        <h2>Register</h2>\n",
    "        <form method='POST'>\n",
    "            Username: <input name='username'><br>\n",
    "            Password: <input name='password' type='password'><br>\n",
    "            <input type='submit'>\n",
    "        </form>\n",
    "        \"\"\")\n"
   ]
  },
  {
   "cell_type": "code",
   "execution_count": 41,
   "id": "cb69c7ba",
   "metadata": {},
   "outputs": [],
   "source": [
    "\n",
    "if 'login' not in app.view_functions:\n",
    "    @app.route('/login', methods=['GET', 'POST'])\n",
    "    def login():\n",
    "        if request.method == 'POST':\n",
    "            user = User.query.filter_by(username=request.form['username']).first()\n",
    "            if user and check_password_hash(user.password, request.form['password']):\n",
    "                login_user(user)\n",
    "                return redirect(url_for('index'))\n",
    "            flash('Invalid credentials')\n",
    "        return render_template_string(\"\"\"\n",
    "        <h2>Login</h2>\n",
    "        <form method='POST'>\n",
    "            Username: <input name='username'><br>\n",
    "            Password: <input name='password' type='password'><br>\n",
    "            <input type='submit'>\n",
    "        </form>\n",
    "        \"\"\")\n"
   ]
  },
  {
   "cell_type": "code",
   "execution_count": 43,
   "id": "45618f7f",
   "metadata": {},
   "outputs": [],
   "source": [
    "\n",
    "if 'logout' not in app.view_functions:\n",
    "    @app.route('/logout')\n",
    "    @login_required\n",
    "    def logout():\n",
    "        logout_user()\n",
    "        return redirect(url_for('index'))\n"
   ]
  },
  {
   "cell_type": "code",
   "execution_count": 45,
   "id": "0f7b3a9c",
   "metadata": {},
   "outputs": [],
   "source": [
    "\n",
    "if 'dashboard' not in app.view_functions:\n",
    "    @app.route('/dashboard', methods=['GET', 'POST'])\n",
    "    @login_required\n",
    "    def dashboard():\n",
    "        if request.method == 'POST':\n",
    "            title = request.form['title']\n",
    "            content = request.form['content']\n",
    "            new_post = Post(title=title, content=content, author_id=current_user.id)\n",
    "            db.session.add(new_post)\n",
    "            db.session.commit()\n",
    "        return render_template_string(\"\"\"\n",
    "        <h2>Dashboard</h2>\n",
    "        <form method='POST'>\n",
    "            Title: <input name='title'><br>\n",
    "            Content:<br><textarea name='content'></textarea><br>\n",
    "            <input type='submit'>\n",
    "        </form><br>\n",
    "        <a href='/'>Back to Home</a>\n",
    "        \"\"\")\n"
   ]
  },
  {
   "cell_type": "code",
   "execution_count": 49,
   "id": "4a06527d",
   "metadata": {},
   "outputs": [
    {
     "name": "stdout",
     "output_type": "stream",
     "text": [
      " * Serving Flask app '__main__'\n",
      " * Debug mode: on\n"
     ]
    },
    {
     "name": "stderr",
     "output_type": "stream",
     "text": [
      "WARNING: This is a development server. Do not use it in a production deployment. Use a production WSGI server instead.\n",
      " * Running on http://127.0.0.1:5000\n",
      "Press CTRL+C to quit\n"
     ]
    }
   ],
   "source": [
    "\n",
    "with app.app_context():\n",
    "    db.create_all()\n",
    "\n",
    "def run_app():\n",
    "    app.run(debug=True, use_reloader=False)\n",
    "\n",
    "Thread(target=run_app).start()\n"
   ]
  },
  {
   "cell_type": "code",
   "execution_count": null,
   "id": "f6d5e7be-9f35-4231-8530-4b558ef3036c",
   "metadata": {},
   "outputs": [],
   "source": []
  },
  {
   "cell_type": "code",
   "execution_count": null,
   "id": "2e74dab5-4f27-4c7c-bdd0-d9aec593ad1e",
   "metadata": {},
   "outputs": [],
   "source": []
  }
 ],
 "metadata": {
  "kernelspec": {
   "display_name": "Python [conda env:base] *",
   "language": "python",
   "name": "conda-base-py"
  },
  "language_info": {
   "codemirror_mode": {
    "name": "ipython",
    "version": 3
   },
   "file_extension": ".py",
   "mimetype": "text/x-python",
   "name": "python",
   "nbconvert_exporter": "python",
   "pygments_lexer": "ipython3",
   "version": "3.12.7"
  }
 },
 "nbformat": 4,
 "nbformat_minor": 5
}
